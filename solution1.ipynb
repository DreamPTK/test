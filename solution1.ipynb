{
 "cells": [
  {
   "cell_type": "markdown",
   "id": "1c689b76-7ad0-4fd6-9162-c7a96e13c417",
   "metadata": {},
   "source": [
    "### The first Assignment description\n",
    "***\n",
    "* Write a Python code that does the following:\n",
    "  1. download nir and red (GeoTIFF files) of a recent LANDSAT-8 scene showing Bangkok, Thailand.\n",
    "  2. Use the red and nir of the previous step to generate ndvi image of the chosen scene.\n",
    "  3. Generate ndvi within Bangkok boundary using clip. Store the output file in ndvi_clip.tif.\n",
    "  4. Calculate mean ndvi and area in square meter of Bangkok. (You can show the output inside.ipynb).\n",
    "  5. You can submit the code as jupyter notebook (.ipynb) or python (.py). \n",
    "  6. All data sources you used to solve the problem (working links are enough)\n",
    "\n",
    "***"
   ]
  },
  {
   "cell_type": "markdown",
   "id": "49147925-c591-41e2-ba0e-54e2fa0830d8",
   "metadata": {},
   "source": [
    "## Import libraries"
   ]
  },
  {
   "cell_type": "code",
   "execution_count": 1,
   "id": "1af98a02-b124-497c-b599-25e660d3be2a",
   "metadata": {},
   "outputs": [],
   "source": [
    "import geemap\n",
    "import ee"
   ]
  },
  {
   "cell_type": "markdown",
   "id": "e108af6c-5b13-4bb1-b262-ea4264a5c03d",
   "metadata": {},
   "source": [
    "## Colecting Landsat-8 scene cliped by Bangkok bounary\n",
    "\n",
    "You will see the landsat-8 image clipped by polygon of bangkok on Interactive map below.\n",
    "\n",
    "You can explore by use the button on the top right to change the layers."
   ]
  },
  {
   "cell_type": "code",
   "execution_count": 2,
   "id": "1a30c531-b08f-4ef7-808c-542888ea56c7",
   "metadata": {},
   "outputs": [
    {
     "data": {
      "text/html": [
       "\n",
       "            <style>\n",
       "                .geemap-dark {\n",
       "                    --jp-widgets-color: white;\n",
       "                    --jp-widgets-label-color: white;\n",
       "                    --jp-ui-font-color1: white;\n",
       "                    --jp-layout-color2: #454545;\n",
       "                    background-color: #383838;\n",
       "                }\n",
       "\n",
       "                .geemap-dark .jupyter-button {\n",
       "                    --jp-layout-color3: #383838;\n",
       "                }\n",
       "\n",
       "                .geemap-colab {\n",
       "                    background-color: var(--colab-primary-surface-color, white);\n",
       "                }\n",
       "\n",
       "                .geemap-colab .jupyter-button {\n",
       "                    --jp-layout-color3: var(--colab-primary-surface-color, white);\n",
       "                }\n",
       "            </style>\n",
       "            "
      ],
      "text/plain": [
       "<IPython.core.display.HTML object>"
      ]
     },
     "metadata": {},
     "output_type": "display_data"
    },
    {
     "name": "stdout",
     "output_type": "stream",
     "text": [
      "The input shapefile could not be found.\n"
     ]
    },
    {
     "data": {
      "application/vnd.jupyter.widget-view+json": {
       "model_id": "375cf1946e92487e860013eae88da6cd",
       "version_major": 2,
       "version_minor": 0
      },
      "text/plain": [
       "Map(center=[13.77176277003285, 100.6234110729744], controls=(WidgetControl(options=['position', 'transparent_b…"
      ]
     },
     "execution_count": 2,
     "metadata": {},
     "output_type": "execute_result"
    }
   ],
   "source": [
    "# call map function\n",
    "Map = geemap.Map()\n",
    "\n",
    "# set input\n",
    "landsat8 = ee.ImageCollection(\"LANDSAT/LC08/C02/T1\")\n",
    "aoi = ee.FeatureCollection(\"projects/dreamsp/assets/bangkok\") # area of interest\n",
    "vector_input = 'tha_admbnda_adm1_rtsd_20220121/bangkok.shp' # to show polygon on map\n",
    "vector = geemap.shp_to_ee(vector_input)\n",
    "\n",
    "# collect the satellite image\n",
    "Image = landsat8.select([\"B2\",\"B3\",\"B4\",\"B5\"]) \\\n",
    "                .filterBounds(aoi) \\\n",
    "                .filterMetadata('CLOUD_COVER','less_than', 5) \\\n",
    "                .filterDate(\"2021-01-01\",\"2021-11-30\") \\\n",
    "                .median() \\\n",
    "                .clip(aoi)\n",
    "\n",
    "#for RGB visualize\n",
    "landsat_vis = {\"bands\": [\"B4\", \"B3\", \"B2\"], \"gamma\": 1.4}\n",
    "\n",
    "# add to map\n",
    "Map.centerObject(aoi,9) # zoom level9\n",
    "Map.addLayer(vector, {'color':'green', \"opacity\": 0.5}, \"Bangkok\") # bangkok polygon\n",
    "Map.addLayer(Image, landsat_vis, \"Landsat8\") # L8 imagery\n",
    "\n",
    "# display map\n",
    "Map"
   ]
  },
  {
   "cell_type": "markdown",
   "id": "6e799013",
   "metadata": {},
   "source": [
    "ตัวอย่าง intercative map\n",
    "![.](data/bangkokNDVI.jpg)"
   ]
  },
  {
   "cell_type": "markdown",
   "id": "60d6c74b-3368-44e6-97d0-cb66084bd5d1",
   "metadata": {},
   "source": [
    "## Calculate NDVI Index\n",
    "\n",
    "The formula : \n",
    "#### NDVI = (nir-red)/(nir+red)\n"
   ]
  },
  {
   "cell_type": "code",
   "execution_count": 3,
   "id": "8d41437b-9562-438f-8b4d-7eebdf8cf526",
   "metadata": {},
   "outputs": [
    {
     "data": {
      "text/html": [
       "\n",
       "            <style>\n",
       "                .geemap-dark {\n",
       "                    --jp-widgets-color: white;\n",
       "                    --jp-widgets-label-color: white;\n",
       "                    --jp-ui-font-color1: white;\n",
       "                    --jp-layout-color2: #454545;\n",
       "                    background-color: #383838;\n",
       "                }\n",
       "\n",
       "                .geemap-dark .jupyter-button {\n",
       "                    --jp-layout-color3: #383838;\n",
       "                }\n",
       "\n",
       "                .geemap-colab {\n",
       "                    background-color: var(--colab-primary-surface-color, white);\n",
       "                }\n",
       "\n",
       "                .geemap-colab .jupyter-button {\n",
       "                    --jp-layout-color3: var(--colab-primary-surface-color, white);\n",
       "                }\n",
       "            </style>\n",
       "            "
      ],
      "text/plain": [
       "<IPython.core.display.HTML object>"
      ]
     },
     "metadata": {},
     "output_type": "display_data"
    }
   ],
   "source": [
    "# set variables\n",
    "red_band = Image.select('B4')\n",
    "nir_band = Image.select('B5')\n",
    "\n",
    "# Cal ndvi index\n",
    "ndvi = (nir_band.subtract(red_band)).divide(nir_band.add(red_band))\n",
    "\n",
    "#for visualize\n",
    "ndvi_vis = {'min': -1, 'max': 1, 'palette': ['blue', 'white', 'green']}\n",
    "Map.addLayer(ndvi, ndvi_vis, \"ndvi\")"
   ]
  },
  {
   "cell_type": "markdown",
   "id": "013d406c-3f81-49af-873f-a70c8d8d9312",
   "metadata": {},
   "source": [
    "The NDVI result will display on the interactive map above. "
   ]
  },
  {
   "cell_type": "markdown",
   "id": "a98b338f-3437-4dbe-b262-b5a5ac18ab0c",
   "metadata": {},
   "source": [
    "## Export to ndvi_clip.tif"
   ]
  },
  {
   "cell_type": "code",
   "execution_count": 4,
   "id": "68233240-d4b7-4f5d-954c-bff89f2182a7",
   "metadata": {},
   "outputs": [
    {
     "data": {
      "text/html": [
       "\n",
       "            <style>\n",
       "                .geemap-dark {\n",
       "                    --jp-widgets-color: white;\n",
       "                    --jp-widgets-label-color: white;\n",
       "                    --jp-ui-font-color1: white;\n",
       "                    --jp-layout-color2: #454545;\n",
       "                    background-color: #383838;\n",
       "                }\n",
       "\n",
       "                .geemap-dark .jupyter-button {\n",
       "                    --jp-layout-color3: #383838;\n",
       "                }\n",
       "\n",
       "                .geemap-colab {\n",
       "                    background-color: var(--colab-primary-surface-color, white);\n",
       "                }\n",
       "\n",
       "                .geemap-colab .jupyter-button {\n",
       "                    --jp-layout-color3: var(--colab-primary-surface-color, white);\n",
       "                }\n",
       "            </style>\n",
       "            "
      ],
      "text/plain": [
       "<IPython.core.display.HTML object>"
      ]
     },
     "metadata": {},
     "output_type": "display_data"
    },
    {
     "name": "stdout",
     "output_type": "stream",
     "text": [
      "Generating URL ...\n",
      "Downloading data from https://earthengine.googleapis.com/v1/projects/earthengine-legacy/thumbnails/e3f6690da3491e1dfad91d8439b2fe5b-45aacf150e4523612077a02d9241cec0:getPixels\n",
      "Please wait ...\n",
      "Data downloaded to e:\\work\\ndvi_clip.tif\n"
     ]
    }
   ],
   "source": [
    "# Export NDVI image to GeoTIFF\n",
    "out_dir = 'ndvi_clip.tif'  # Set your output directory here\n",
    "geemap.ee_export_image(ndvi, filename=out_dir, scale=30, region=aoi.geometry().bounds(), file_per_band=False)"
   ]
  },
  {
   "cell_type": "markdown",
   "id": "8bce3b3d-5a09-4a71-8e21-b963bc36a46c",
   "metadata": {},
   "source": [
    "## Calculate ndvi_mean\n",
    "\n",
    "The '.reduceRegion()' function in Google Earth Engine is used to aggregate pixel values within a specified region of interest (ROI) and compute summary statistics or apply a reducer function."
   ]
  },
  {
   "cell_type": "code",
   "execution_count": 5,
   "id": "52d4ec96-ccec-47e7-83ec-ac5ed9907a16",
   "metadata": {},
   "outputs": [
    {
     "data": {
      "text/html": [
       "\n",
       "            <style>\n",
       "                .geemap-dark {\n",
       "                    --jp-widgets-color: white;\n",
       "                    --jp-widgets-label-color: white;\n",
       "                    --jp-ui-font-color1: white;\n",
       "                    --jp-layout-color2: #454545;\n",
       "                    background-color: #383838;\n",
       "                }\n",
       "\n",
       "                .geemap-dark .jupyter-button {\n",
       "                    --jp-layout-color3: #383838;\n",
       "                }\n",
       "\n",
       "                .geemap-colab {\n",
       "                    background-color: var(--colab-primary-surface-color, white);\n",
       "                }\n",
       "\n",
       "                .geemap-colab .jupyter-button {\n",
       "                    --jp-layout-color3: var(--colab-primary-surface-color, white);\n",
       "                }\n",
       "            </style>\n",
       "            "
      ],
      "text/plain": [
       "<IPython.core.display.HTML object>"
      ]
     },
     "metadata": {},
     "output_type": "display_data"
    },
    {
     "name": "stdout",
     "output_type": "stream",
     "text": [
      "Mean NDVI: 0.17798336419168564\n"
     ]
    }
   ],
   "source": [
    "# Calculate mean NDVI\n",
    "mean_ndvi = ndvi.reduceRegion(reducer=ee.Reducer.mean(), geometry=aoi.geometry(), scale=30)\n",
    "\n",
    "# Get the mean NDVI value\n",
    "mean_ndvi_value = None\n",
    "for key, value in mean_ndvi.getInfo().items():\n",
    "    mean_ndvi_value = value\n",
    "    break  \n",
    "\n",
    "# Print the mean NDVI value\n",
    "print(\"Mean NDVI:\", mean_ndvi_value)"
   ]
  },
  {
   "cell_type": "markdown",
   "id": "5c9c3391-2f03-44fd-a7ca-b1cd5f060eaa",
   "metadata": {},
   "source": [
    "## Calculate area in square meter of Bangkok"
   ]
  },
  {
   "cell_type": "code",
   "execution_count": 6,
   "id": "847bb77b-836f-4191-83e6-0b89ae8d866a",
   "metadata": {},
   "outputs": [
    {
     "data": {
      "text/html": [
       "\n",
       "            <style>\n",
       "                .geemap-dark {\n",
       "                    --jp-widgets-color: white;\n",
       "                    --jp-widgets-label-color: white;\n",
       "                    --jp-ui-font-color1: white;\n",
       "                    --jp-layout-color2: #454545;\n",
       "                    background-color: #383838;\n",
       "                }\n",
       "\n",
       "                .geemap-dark .jupyter-button {\n",
       "                    --jp-layout-color3: #383838;\n",
       "                }\n",
       "\n",
       "                .geemap-colab {\n",
       "                    background-color: var(--colab-primary-surface-color, white);\n",
       "                }\n",
       "\n",
       "                .geemap-colab .jupyter-button {\n",
       "                    --jp-layout-color3: var(--colab-primary-surface-color, white);\n",
       "                }\n",
       "            </style>\n",
       "            "
      ],
      "text/plain": [
       "<IPython.core.display.HTML object>"
      ]
     },
     "metadata": {},
     "output_type": "display_data"
    },
    {
     "name": "stdout",
     "output_type": "stream",
     "text": [
      "Area of Bangkok (square meters): 1577860070.5515444\n"
     ]
    }
   ],
   "source": [
    "# Calculate area of Bangkok\n",
    "area_m2 = aoi.geometry().area()\n",
    " \n",
    "print(\"Area of Bangkok (square meters):\", area_m2.getInfo())"
   ]
  },
  {
   "cell_type": "markdown",
   "id": "8b6c9f37-c878-45f5-b19a-fe46c9db4f1b",
   "metadata": {},
   "source": [
    "## Printting mean ndvi and area in square meter of Bangkok in the last line."
   ]
  },
  {
   "cell_type": "code",
   "execution_count": 7,
   "id": "c09e2551-80d1-4076-9adc-cff4c94d355a",
   "metadata": {},
   "outputs": [
    {
     "data": {
      "text/html": [
       "\n",
       "            <style>\n",
       "                .geemap-dark {\n",
       "                    --jp-widgets-color: white;\n",
       "                    --jp-widgets-label-color: white;\n",
       "                    --jp-ui-font-color1: white;\n",
       "                    --jp-layout-color2: #454545;\n",
       "                    background-color: #383838;\n",
       "                }\n",
       "\n",
       "                .geemap-dark .jupyter-button {\n",
       "                    --jp-layout-color3: #383838;\n",
       "                }\n",
       "\n",
       "                .geemap-colab {\n",
       "                    background-color: var(--colab-primary-surface-color, white);\n",
       "                }\n",
       "\n",
       "                .geemap-colab .jupyter-button {\n",
       "                    --jp-layout-color3: var(--colab-primary-surface-color, white);\n",
       "                }\n",
       "            </style>\n",
       "            "
      ],
      "text/plain": [
       "<IPython.core.display.HTML object>"
      ]
     },
     "metadata": {},
     "output_type": "display_data"
    },
    {
     "name": "stdout",
     "output_type": "stream",
     "text": [
      "Mean NDVI: 0.17798336419168564\n",
      "Area of Bangkok (square meters): 1577860070.5515444\n"
     ]
    }
   ],
   "source": [
    "print(\"Mean NDVI:\", mean_ndvi_value)\n",
    "print(\"Area of Bangkok (square meters):\", area_m2.getInfo())"
   ]
  }
 ],
 "metadata": {
  "kernelspec": {
   "display_name": "Python 3 (ipykernel)",
   "language": "python",
   "name": "python3"
  },
  "language_info": {
   "codemirror_mode": {
    "name": "ipython",
    "version": 3
   },
   "file_extension": ".py",
   "mimetype": "text/x-python",
   "name": "python",
   "nbconvert_exporter": "python",
   "pygments_lexer": "ipython3",
   "version": "3.11.7"
  }
 },
 "nbformat": 4,
 "nbformat_minor": 5
}
